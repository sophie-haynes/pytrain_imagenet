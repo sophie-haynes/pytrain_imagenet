{
 "cells": [
  {
   "cell_type": "code",
   "execution_count": 2,
   "id": "f910f248-9391-4a68-961c-ef7857b921bd",
   "metadata": {},
   "outputs": [],
   "source": [
    "import imageio, os"
   ]
  },
  {
   "cell_type": "code",
   "execution_count": 4,
   "id": "a8206f22-6494-4fe4-afc1-2605f87b726f",
   "metadata": {},
   "outputs": [],
   "source": [
    "viz_dir = \"/home/jovyan/pytrain_imagenet/viz_plots\""
   ]
  },
  {
   "cell_type": "code",
   "execution_count": 19,
   "id": "12b7aff6-4467-4972-923e-1c51b0508dc2",
   "metadata": {},
   "outputs": [],
   "source": [
    "# https://stackoverflow.com/questions/4813061/non-alphanumeric-list-order-from-os-listdir\n",
    "import re\n",
    "def sorted_alphanumeric(data):\n",
    "    convert = lambda text: int(text) if text.isdigit() else text.lower()\n",
    "    alphanum_key = lambda key: [ convert(c) for c in re.split('([0-9]+)', key) ] \n",
    "    return sorted(data, key=alphanum_key)\n"
   ]
  },
  {
   "cell_type": "code",
   "execution_count": 34,
   "id": "70c70176-33a8-4d43-9f2a-6c8953ee427f",
   "metadata": {},
   "outputs": [
    {
     "name": "stderr",
     "output_type": "stream",
     "text": [
      "/tmp/ipykernel_25179/3747458894.py:5: DeprecationWarning: Starting with ImageIO v3 the behavior of this function will switch to that of iio.v3.imread. To keep the current behavior (and make this warning disappear) use `import imageio.v2 as imageio` or call `imageio.v2.imread` directly.\n",
      "  image = imageio.imread(os.path.join(viz_dir,target,filename))\n"
     ]
    }
   ],
   "source": [
    "target = \"pizza\"\n",
    "with imageio.get_writer('{}.gif'.format(target), mode='I',fps=1.5) as writer:\n",
    "    for filename in sorted_alphanumeric(os.listdir(os.path.join(viz_dir,target))):\n",
    "        if \".png\" in filename:\n",
    "            image = imageio.imread(os.path.join(viz_dir,target,filename))\n",
    "            writer.append_data(image)"
   ]
  },
  {
   "cell_type": "code",
   "execution_count": 31,
   "id": "aac38212-9f34-488c-a8aa-64829266721f",
   "metadata": {},
   "outputs": [
    {
     "name": "stderr",
     "output_type": "stream",
     "text": [
      "/tmp/ipykernel_25179/1608197003.py:5: DeprecationWarning: Starting with ImageIO v3 the behavior of this function will switch to that of iio.v3.imread. To keep the current behavior (and make this warning disappear) use `import imageio.v2 as imageio` or call `imageio.v2.imread` directly.\n",
      "  image = imageio.imread(os.path.join(viz_dir,target,filename))\n"
     ]
    }
   ],
   "source": [
    "target = \"giant panda\"\n",
    "with imageio.get_writer('{}.gif'.format(target), mode='I',fps=1.5) as writer:\n",
    "    for filename in sorted_alphanumeric(os.listdir(os.path.join(viz_dir,target))):\n",
    "        if \".png\" in filename:\n",
    "            image = imageio.imread(os.path.join(viz_dir,target,filename))\n",
    "            writer.append_data(image)"
   ]
  },
  {
   "cell_type": "code",
   "execution_count": 33,
   "id": "aa1d0110-5e98-480c-b40e-9d0df45f96c6",
   "metadata": {},
   "outputs": [
    {
     "name": "stderr",
     "output_type": "stream",
     "text": [
      "/tmp/ipykernel_25179/1314524860.py:5: DeprecationWarning: Starting with ImageIO v3 the behavior of this function will switch to that of iio.v3.imread. To keep the current behavior (and make this warning disappear) use `import imageio.v2 as imageio` or call `imageio.v2.imread` directly.\n",
      "  image = imageio.imread(os.path.join(viz_dir,target,filename))\n"
     ]
    }
   ],
   "source": [
    "target = \"candle\"\n",
    "with imageio.get_writer('{}.gif'.format(target), mode='I',fps=1.5) as writer:\n",
    "    for filename in sorted_alphanumeric(os.listdir(os.path.join(viz_dir,target))):\n",
    "        if \".png\" in filename:\n",
    "            image = imageio.imread(os.path.join(viz_dir,target,filename))\n",
    "            writer.append_data(image)"
   ]
  },
  {
   "cell_type": "code",
   "execution_count": null,
   "id": "d099f40f-3b55-403c-94c5-e89fa76bef04",
   "metadata": {},
   "outputs": [],
   "source": [
    "target = \"cock\"\n",
    "with imageio.get_writer('{}.gif'.format(target), mode='I',fps=1.5) as writer:\n",
    "    for filename in sorted_alphanumeric(os.listdir(os.path.join(viz_dir,target))):\n",
    "        if \".png\" in filename:\n",
    "            image = imageio.imread(os.path.join(viz_dir,target,filename))\n",
    "            writer.append_data(image)"
   ]
  },
  {
   "cell_type": "code",
   "execution_count": null,
   "id": "3b0e87a0-56ed-470c-b240-1bf664630000",
   "metadata": {},
   "outputs": [],
   "source": [
    "target = \"agama\"\n",
    "with imageio.get_writer('{}.gif'.format(target), mode='I',fps=1.5) as writer:\n",
    "    for filename in sorted_alphanumeric(os.listdir(os.path.join(viz_dir,target))):\n",
    "        if \".png\" in filename:\n",
    "            image = imageio.imread(os.path.join(viz_dir,target,filename))\n",
    "            writer.append_data(image)"
   ]
  },
  {
   "cell_type": "code",
   "execution_count": null,
   "id": "51d5a0c6-1d66-434d-abbc-b156e651174f",
   "metadata": {},
   "outputs": [],
   "source": [
    "target = \"hen\"\n",
    "with imageio.get_writer('{}.gif'.format(target), mode='I',fps=1.5) as writer:\n",
    "    for filename in sorted_alphanumeric(os.listdir(os.path.join(viz_dir,target))):\n",
    "        if \".png\" in filename:\n",
    "            image = imageio.imread(os.path.join(viz_dir,target,filename))\n",
    "            writer.append_data(image)"
   ]
  }
 ],
 "metadata": {
  "kernelspec": {
   "display_name": "Python 3 (ipykernel)",
   "language": "python",
   "name": "python3"
  },
  "language_info": {
   "codemirror_mode": {
    "name": "ipython",
    "version": 3
   },
   "file_extension": ".py",
   "mimetype": "text/x-python",
   "name": "python",
   "nbconvert_exporter": "python",
   "pygments_lexer": "ipython3",
   "version": "3.11.8"
  }
 },
 "nbformat": 4,
 "nbformat_minor": 5
}
